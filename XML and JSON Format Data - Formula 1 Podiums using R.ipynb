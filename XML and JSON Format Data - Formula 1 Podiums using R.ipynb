{
 "cells": [
  {
   "cell_type": "markdown",
   "metadata": {},
   "source": [
    "# XML and JSON Format Data - Formula 1 Podiums using R"
   ]
  },
  {
   "cell_type": "markdown",
   "metadata": {},
   "source": [
    "A lot of data available on the web, via download but more particularly via API's, is in XML or JSON format. These formats are not tabular like data frames or tables, but are hierarchical, serialised, and a little trickier to work with. They are not unlike the list structure in R, consisting of lists of lists and can be deeply nested. \n",
    "\n",
    "The purpose of this notebook is to import XML and JSON format data into R and transform it into data frame format to use with the regular suite of tools available in R."
   ]
  },
  {
   "cell_type": "markdown",
   "metadata": {},
   "source": [
    "# Loading Libraries and Options"
   ]
  },
  {
   "cell_type": "markdown",
   "metadata": {},
   "source": [
    "1st Step - only if running in google colab - run these commands"
   ]
  },
  {
   "cell_type": "code",
   "execution_count": null,
   "metadata": {},
   "outputs": [],
   "source": [
    "system('apt install -y r-cran-data.table')\n",
    "system('apt install -y r-cran-rjson')"
   ]
  },
  {
   "cell_type": "markdown",
   "metadata": {},
   "source": [
    "Wherever being run - run these commands"
   ]
  },
  {
   "cell_type": "code",
   "execution_count": null,
   "metadata": {},
   "outputs": [],
   "source": [
    "library('curl')\n",
    "library('xml2')\n",
    "library('plyr')\n",
    "library('stringr')\n",
    "library('data.table')\n",
    "library('rjson')\n",
    "options(stringsAsFactors = FALSE)"
   ]
  },
  {
   "cell_type": "markdown",
   "metadata": {},
   "source": [
    "# The Data - Preview"
   ]
  },
  {
   "cell_type": "markdown",
   "metadata": {},
   "source": [
    "The very good people at Ergast (https://ergast.com/mrd/) have provided an API which gives access to a lot of data relating to Formula 1 races from 1950 through to today. Terms of Use are available at https://ergast.com/mrd/terms/. \n",
    "\n",
    "The API is queried by URL formatted requests, and the returned data is in XML or JSON format.\n",
    "\n",
    "Let's have a look at the raw data from the API calls. Head over to https://codebeautify.org/xmlviewer and  https://codebeautify.org/jsonviewer and load the API calls https://ergast.com/api/f1/2014/results/1.xml and https://ergast.com/api/f1/2014/results/1.json respectively to get a \"prettier\" picture.\n",
    "\n",
    "An excerpt of the XML code is\n",
    "\n",
    "\t\t\t<ResultsList>\n",
    "\t\t\t\t<Result number=\"6\" position=\"1\" positionText=\"1\" points=\"25\">\n",
    "\t\t\t\t\t<Driver driverId=\"rosberg\" code=\"ROS\" url=\"http://en.wikipedia.org/wiki/Nico_Rosberg\">\n",
    "\t\t\t\t\t\t<PermanentNumber>6</PermanentNumber>\n",
    "\t\t\t\t\t\t<GivenName>Nico</GivenName>\n",
    "\t\t\t\t\t\t<FamilyName>Rosberg</FamilyName>\n",
    "\t\t\t\t\t\t<DateOfBirth>1985-06-27</DateOfBirth>\n",
    "\t\t\t\t\t\t<Nationality>German</Nationality>\n",
    "\t\t\t\t\t</Driver>\n",
    "\t\t\t\t\t\n",
    "within the <Driver> \"element\", the driverId and code data are stored as \"attributes\"\", whereas the <GivenName> and <FamilyName> are given as \"text\" content.\n",
    "\n",
    "An excerpt of the JSON code is \n",
    "\n",
    "         \"Results\": [\n",
    "            {\n",
    "              \"number\": \"6\",\n",
    "              \"position\": \"1\",\n",
    "              \"positionText\": \"1\",\n",
    "              \"points\": \"25\",\n",
    "              \"Driver\": {\n",
    "                \"driverId\": \"rosberg\",\n",
    "                \"permanentNumber\": \"6\",\n",
    "                \"code\": \"ROS\",\n",
    "                \"url\": \"http://en.wikipedia.org/wiki/Nico_Rosberg\",\n",
    "                \"givenName\": \"Nico\",\n",
    "                \"familyName\": \"Rosberg\",\n",
    "                \"dateOfBirth\": \"1985-06-27\",\n",
    "                \"nationality\": \"German\"\n",
    "\n",
    "JSON is a mixture of arrays (eg Results) and objects (eg Driver) which have key/value pairs (eg key \"driverId\" paired with value \"rosberg\")\n",
    "\n",
    "The nested, serial, hierarchical, list of list structure of XML and JSON is quite evident.\n",
    "\n",
    "JSON uses arrays to structure plural instances of the same object, XML does not. This can cause difficulties in using JSON, where the format varies between singular and plural instances."
   ]
  },
  {
   "cell_type": "markdown",
   "metadata": {},
   "source": [
    "# The Data - XML"
   ]
  },
  {
   "cell_type": "markdown",
   "metadata": {},
   "source": [
    "So let's get some data. The following code queries the API for a small number of years for drivers who finished on the podium i.e. they finished first, second or third. The API seems to be limited to a single year and single podium position per API call. \n",
    "\n",
    "The code is basically nested 'for loops', one for the year and one for the podium postion. Each API call is returned and stored in an array/list. The R function \"paste0\" structures each API call for the different years/podiums.\n",
    "\n",
    "This call is for data in XML format, making use of the 'xml2' library.\n"
   ]
  },
  {
   "cell_type": "code",
   "execution_count": null,
   "metadata": {},
   "outputs": [],
   "source": [
    "start_year <- 2014\n",
    "finish_year <- 2019\n",
    "xml_results_temp <- list()\n",
    "for (i in (start_year:finish_year)) {\n",
    "\tfor (j in (1:3)) {\n",
    "\t\txml_results_temp[[(i-start_year)*3+j]] <- read_xml(curl(paste0(\"http://ergast.com/api/f1/\",i,\"/results/\",j,\".xml\")))\n",
    "\t\tSys.sleep(1)\n",
    "\t}\n",
    "}"
   ]
  },
  {
   "cell_type": "markdown",
   "metadata": {},
   "source": [
    "Before we go any further we will remove the namespace details from the xml, it won't be needed for our purposes."
   ]
  },
  {
   "cell_type": "code",
   "execution_count": null,
   "metadata": {},
   "outputs": [],
   "source": [
    "xml_results_temp_ns <- lapply(xml_results_temp,xml_ns_strip)"
   ]
  },
  {
   "cell_type": "markdown",
   "metadata": {},
   "source": [
    "There are many different methods to obtain the data from an XML data set. There are functions which have the capacity to transform an XML data set directly to a data frame. In the author's experience these more often than not hit hurdles, and they find the following approach to be the simplest overall and has been easily applied to all data sets encountered so far. Inevitably only a small amount of the data is usually used, and a targeted approach retrieving only what is needed is quite efficient.\n",
    "\n",
    "lapply is a powerful function in r, essentially looping over a list and performing the same function to each element of the list. It is base R code and much faster than using 'for loops'. xml_find_all finds all elements matching a \"path\" eg \".//Result//Driver\". The nomenclature used is from the XPath specification. The addition of the \".\" at the start means the path can occur anywhere in the XML, not bound to the root node. The functions xml_attr and xml_text then extract the attribute or text value, and all of this is stored in a list."
   ]
  },
  {
   "cell_type": "code",
   "execution_count": null,
   "metadata": {},
   "outputs": [],
   "source": [
    "xml_results_edit <- lapply(xml_results_temp_ns, function (x)\n",
    "\t{\n",
    "\t\tlist(\n",
    "\t\t\t\tseason=xml_attr(xml_find_all(x,\".//Race\"),\"season\"),\n",
    "\t\t\t\tround=xml_attr(xml_find_all(x,\".//Race\"),\"round\"),\n",
    "\t\t\t\tLocality=xml_text(xml_find_all(x,\".//Circuit//Location//Locality\"),\"Locality\"),\n",
    "\t\t\t\tCountry=xml_text(xml_find_all(x,\".//Circuit//Location//Country\"),\"Country\"),\n",
    "\t\t\t\tDate=xml_text(xml_find_all(x,\".//Date\"),\"Date\"),\n",
    "\t\t\t\tfinishposition=xml_attr(xml_find_all(x,\".//Result\"),\"position\"),\n",
    "\t\t\t\tdriverId=xml_attr(xml_find_all(x,\".//Result//Driver\"),\"driverId\"),\n",
    "\t\t\t\tdrivercode=xml_attr(xml_find_all(x,\".//Result//Driver\"),\"code\"),\n",
    "\t\t\t\tdriverGivenName=xml_text(xml_find_all(x,\".//Result//Driver//GivenName\"),\"GivenName\"),\n",
    "\t\t\t\tdriverFamilyName=xml_text(xml_find_all(x,\".//Result//Driver//FamilyName\"),\"FamilyName\"),\n",
    "\t\t\t\tdriverNationality=xml_text(xml_find_all(x,\".//Result//Driver//Nationality\"),\"Nationality\"),\n",
    "\t\t\t\tconstructorId=xml_attr(xml_find_all(x,\".//Result//Constructor\"),\"constructorId\"),\n",
    "\t\t\t\tconstructorName=xml_text(xml_find_all(x,\".//Result//Constructor//Name\"),\"Name\"),\n",
    "\t\t\t\tconstructorNationality=xml_text(xml_find_all(x,\".//Result//Constructor//Nationality\"),\"Nationality\")\n",
    "\t\t)\n",
    "\t}\n",
    ")"
   ]
  },
  {
   "cell_type": "markdown",
   "metadata": {},
   "source": [
    "This gives a list of lists, and to transform this to a data frame all that is needed is the powerful ldply function from the plyr library, which unfolds the list neatly into a data frame."
   ]
  },
  {
   "cell_type": "code",
   "execution_count": null,
   "metadata": {},
   "outputs": [],
   "source": [
    "xml_results_edit_ldply <- ldply(xml_results_edit,data.frame)\n",
    "head(xml_results_edit_ldply,10)"
   ]
  },
  {
   "cell_type": "markdown",
   "metadata": {},
   "source": [
    "That looks a lot more familiar!"
   ]
  },
  {
   "cell_type": "markdown",
   "metadata": {},
   "source": [
    "# The Data - JSON"
   ]
  },
  {
   "cell_type": "markdown",
   "metadata": {},
   "source": [
    "Now for the same data in JSON format, making use of the 'rjson' library. Often keeping the JSON in full list of list format makes further processing easier."
   ]
  },
  {
   "cell_type": "code",
   "execution_count": null,
   "metadata": {},
   "outputs": [],
   "source": [
    "start_year <- 2014\n",
    "finish_year <- 2019\n",
    "json_results <- list()\n",
    "for (i in (start_year:finish_year)) {\n",
    "\tfor (j in (1:3)) {\n",
    "\t\tjson_results[[(i-start_year)*3+j]] <- fromJSON(file=URLencode(paste0(\"http://ergast.com/api/f1/\",i,\"/results/\",j,\".json\")))\n",
    "\t\tSys.sleep(1)\n",
    "\t}\n",
    "}\n"
   ]
  },
  {
   "cell_type": "markdown",
   "metadata": {},
   "source": [
    "The approach here is to use the powerful ldply function to unfold each element of the list to a data frame, use lapply to 'apply' ldply to each element, then use rbindlist from the data.table library to join all of the individual data frames together. All in one command!"
   ]
  },
  {
   "cell_type": "code",
   "execution_count": null,
   "metadata": {},
   "outputs": [],
   "source": [
    "json_results_ldply <- rbindlist(lapply(json_results, function (x) ldply(x[[\"MRData\"]][[\"RaceTable\"]][[\"Races\"]],data.frame)))"
   ]
  },
  {
   "cell_type": "markdown",
   "metadata": {},
   "source": [
    "All that's left to do is to keep only the columns we need and to update the column names to match the XML version."
   ]
  },
  {
   "cell_type": "code",
   "execution_count": null,
   "metadata": {},
   "outputs": [],
   "source": [
    "json_results_ldply_edit <- json_results_ldply[,c(\"season\",\"round\",\"Circuit.Location.locality\",\"Circuit.Location.country\",\"date\",\"Results.position\",\"Results.Driver.driverId\",\"Results.Driver.code\",\"Results.Driver.givenName\",\"Results.Driver.familyName\",\"Results.Driver.nationality\",\"Results.Constructor.constructorId\",\"Results.Constructor.name\",\"Results.Constructor.nationality\")]\n",
    "colnames(json_results_ldply_edit) <- c(\"season\",\"round\",\"Locality\",\"Country\",\"Date\",\"finishposition\",\"driverId\",\"drivercode\",\"driverGivenName\",\"driverFamilyName\",\"driverNationality\",\"constructorId\",\"constructorName\",\"constructorNationality\")"
   ]
  },
  {
   "cell_type": "markdown",
   "metadata": {},
   "source": [
    "Let's check it out."
   ]
  },
  {
   "cell_type": "code",
   "execution_count": null,
   "metadata": {},
   "outputs": [],
   "source": [
    "head(json_results_ldply_edit,10)"
   ]
  },
  {
   "cell_type": "markdown",
   "metadata": {},
   "source": [
    "# The Podiums Network Visualisation"
   ]
  },
  {
   "cell_type": "markdown",
   "metadata": {},
   "source": [
    "To create the visualisation using the visNetwork tool, two data frames are needed, describing the \"nodes\" and \"edges\"\" respectively. The nodes will represent drivers, the bigger the circle the more individual podiums, and hovering over the node will give the drivers full name and exact number of podiums. The edges will represent where two drivers have shared a podium, hovering over will give the number of shared podiums.\n",
    "\n",
    "We will use the XML produced data frame, however the JSON could easily be used too - they are identical."
   ]
  },
  {
   "cell_type": "code",
   "execution_count": null,
   "metadata": {},
   "outputs": [],
   "source": [
    "results_vis <- xml_results_edit_ldply"
   ]
  },
  {
   "cell_type": "markdown",
   "metadata": {},
   "source": [
    "OK, let's start with the nodes data frame. First up, identify the unique drivers."
   ]
  },
  {
   "cell_type": "code",
   "execution_count": null,
   "metadata": {},
   "outputs": [],
   "source": [
    "results_ids <- unique(results_vis[, c(\"driverId\",\"driverGivenName\",\"driverFamilyName\",\"driverNationality\",\"drivercode\")])\n",
    "head(results_ids,5)"
   ]
  },
  {
   "cell_type": "markdown",
   "metadata": {},
   "source": [
    "For each individual driver the total podiums are summed using the table function, column names updated and full driver details attached via the merge function"
   ]
  },
  {
   "cell_type": "code",
   "execution_count": null,
   "metadata": {},
   "outputs": [],
   "source": [
    "results_ids_count <- as.data.frame(table(results_vis$driverId))\n",
    "colnames(results_ids_count) <- c(\"driverId\",\"podiums\")\n",
    "results_ids_count_names <- merge(results_ids_count,results_ids)\n",
    "head(results_ids_count_names,5)"
   ]
  },
  {
   "cell_type": "markdown",
   "metadata": {},
   "source": [
    "The visNetwork tool requires a unique numerical reference for each driver, so let's add one."
   ]
  },
  {
   "cell_type": "code",
   "execution_count": null,
   "metadata": {},
   "outputs": [],
   "source": [
    "results_ids_count_names$id <- seq.int(nrow(results_ids_count_names))"
   ]
  },
  {
   "cell_type": "markdown",
   "metadata": {},
   "source": [
    "The nodes data frame needs a numerical id, a fixed label (driverId) and a hover title (Full Name and Ind. Podiums)"
   ]
  },
  {
   "cell_type": "code",
   "execution_count": null,
   "metadata": {},
   "outputs": [],
   "source": [
    "nodes <- data.frame(id=results_ids_count_names$id,label=results_ids_count_names$driverId,title=paste(results_ids_count_names$driverGivenName,results_ids_count_names$driverFamilyName,\"-\",results_ids_count_names$podiums,\"podiums\",sep=\" \"),value=results_ids_count_names$podiums)\n",
    "head(nodes,5)"
   ]
  },
  {
   "cell_type": "markdown",
   "metadata": {},
   "source": [
    "Now onto the edges. The strategy here is to split the data frame into a big list where each element represents a grand prix and contains the three podium drivers, then add the three possible podium pairs sorted alphabetically in a new pairings list."
   ]
  },
  {
   "cell_type": "code",
   "execution_count": null,
   "metadata": {},
   "outputs": [],
   "source": [
    "results_combo <- lapply(split(results_vis,results_vis$Date), function(x) {\n",
    "\tlist(\n",
    "\t\tpaste(sort(x[[\"driverId\"]])[[1]],sort(x[[\"driverId\"]])[[2]],sep=\"--\"),\n",
    "\t\tpaste(sort(x[[\"driverId\"]])[[1]],sort(x[[\"driverId\"]])[[3]],sep=\"--\"),\n",
    "\t\tpaste(sort(x[[\"driverId\"]])[[2]],sort(x[[\"driverId\"]])[[3]],sep=\"--\")\n",
    "\t\t)\n",
    "\t}\n",
    ")"
   ]
  },
  {
   "cell_type": "markdown",
   "metadata": {},
   "source": [
    "Then 'melt' (data.table) the pairings list, count up each individual pairing, then create columns for each individual driver to match with the nodes data set."
   ]
  },
  {
   "cell_type": "code",
   "execution_count": null,
   "metadata": {},
   "outputs": [],
   "source": [
    "results_combo_melt <- melt(results_combo)\n",
    "results_combo_melt_count <- as.data.frame(table(results_combo_melt$value))\n",
    "results_combo_melt_count_edit <- cbind(results_combo_melt_count,str_split_fixed(results_combo_melt_count$Var1,\"--\",2))\n",
    "head(results_combo_melt_count_edit,5)"
   ]
  },
  {
   "cell_type": "markdown",
   "metadata": {},
   "source": [
    "Then merge the individual driver details with the pairings data frame."
   ]
  },
  {
   "cell_type": "code",
   "execution_count": null,
   "metadata": {},
   "outputs": [],
   "source": [
    "results_combo_melt_count_edit_ids <- merge(results_combo_melt_count_edit,results_ids_count_names,by.x=\"1\",by.y=\"driverId\")\n",
    "results_combo_melt_count_edit_ids2 <- merge(results_combo_melt_count_edit_ids,results_ids_count_names,by.x=\"2\",by.y=\"driverId\")\n",
    "head(results_combo_melt_count_edit_ids2,5)"
   ]
  },
  {
   "cell_type": "markdown",
   "metadata": {},
   "source": [
    "The edges data frame needs from and to columns (driverId's) and a hover title (Number of podiums shared)"
   ]
  },
  {
   "cell_type": "code",
   "execution_count": null,
   "metadata": {},
   "outputs": [],
   "source": [
    "edges <- data.frame(from=results_combo_melt_count_edit_ids2$id.x,to=results_combo_melt_count_edit_ids2$id.y,title=paste(results_combo_melt_count_edit_ids2$Freq,\"shared podiums\",sep=\" \"))\n",
    "head(edges,5)"
   ]
  },
  {
   "cell_type": "markdown",
   "metadata": {},
   "source": [
    "All that remains is to launch the visualisation! - which doesn't work in a Jupyter Notebook :( please try the R Notebook version, which is identical to this notebook, except it works."
   ]
  },
  {
   "cell_type": "code",
   "execution_count": null,
   "metadata": {},
   "outputs": [],
   "source": [
    "visNetwork(nodes,edges,height=\"auto\",width=\"100%\") %>% visEdges(color = list(color = \"lightblue\", highlight = \"red\", smooth = FALSE))"
   ]
  },
  {
   "cell_type": "markdown",
   "metadata": {},
   "source": [
    "# Conclusion"
   ]
  },
  {
   "cell_type": "markdown",
   "metadata": {},
   "source": [
    "XML and JSON formatting is very different than data frames, however with some powerful tools the data can be transformed into R-friendly data frames for further processing and visualisation. The real power in visualisations is making them interactive using RShiny."
   ]
  }
 ],
 "metadata": {
  "kernelspec": {
   "display_name": "R",
   "language": "R",
   "name": "ir"
  },
  "language_info": {
   "codemirror_mode": "r",
   "file_extension": ".r",
   "mimetype": "text/x-r-source",
   "name": "R",
   "pygments_lexer": "r",
   "version": "3.4.3"
  }
 },
 "nbformat": 4,
 "nbformat_minor": 2
}
