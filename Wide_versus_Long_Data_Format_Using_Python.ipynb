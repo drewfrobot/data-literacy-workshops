{
 "cells": [
  {
   "cell_type": "code",
   "execution_count": null,
   "metadata": {
    "collapsed": true
   },
   "outputs": [],
   "source": [
    "import pandas as pd"
   ]
  },
  {
   "cell_type": "code",
   "execution_count": null,
   "metadata": {
    "collapsed": true
   },
   "outputs": [],
   "source": [
    "import numpy as np"
   ]
  },
  {
   "cell_type": "code",
   "execution_count": null,
   "metadata": {
    "collapsed": true
   },
   "outputs": [],
   "source": [
    "import matplotlib.pyplot as plt\n",
    "%matplotlib inline"
   ]
  },
  {
   "cell_type": "markdown",
   "metadata": {},
   "source": [
    "# Wide versus Long Data Format - Using Python\n",
    "\n",
    "Let's take the example of a hypothetical Library, and look at the statistics the front desk might collect. The following csv file is an example of such data, which has been collected over six different time periods each day and submitted at some point later. Each submission details the date, time of day period, and a column for each enquiry category with a random generated tally.\n",
    "\n",
    "So, let's begin by importing the raw statistics and have a look at its format."
   ]
  },
  {
   "cell_type": "markdown",
   "metadata": {},
   "source": [
    "So, let's begin by importing the raw statistics and have a look at its format."
   ]
  },
  {
   "cell_type": "code",
   "execution_count": null,
   "metadata": {
    "collapsed": true
   },
   "outputs": [],
   "source": [
    "df = pd.read_csv('https://github.com/drewfrobot/data-literacy-workshops/blob/master/Hypothetical_Library_Queries.csv')\n",
    "df.head(5)"
   ]
  },
  {
   "cell_type": "markdown",
   "metadata": {},
   "source": [
    "They are a classic example of a wide, response data format.  Easily read by people, not so easily read by machines eg Skynet.\n",
    "\n",
    "The categories of each interaction each have their own column.  It is a presentation format, once again easy for people to read but for a machine to read and perform an analysis and to take advantage of powerful analysis tools it needs to be converted to tall or long or narrow format.\n",
    "\n",
    "This can easily be achieved for example using a 'melt' function in the pandas library."
   ]
  },
  {
   "cell_type": "code",
   "execution_count": null,
   "metadata": {
    "collapsed": true
   },
   "outputs": [],
   "source": [
    "df2=pd.melt(df,id_vars=['Timestamp','Date','Time'],var_name='TypeOf', value_name='NumberOf')\n",
    "df2.sort_values(['Date','Time']).head(10)"
   ]
  },
  {
   "cell_type": "markdown",
   "metadata": {},
   "source": [
    "Now we can perform an analysis and present results. Let's say we would like to know on average which time periods on which weekdays are the busiest at the enquiries desk. Firstly, let's make convert the Date column to Date format add a column which gives the day of the week.  Here 0 is Monday and 6 is Sunday."
   ]
  },
  {
   "cell_type": "code",
   "execution_count": null,
   "metadata": {
    "collapsed": true
   },
   "outputs": [],
   "source": [
    "df2['Date']=pd.to_datetime(df2['Date'],format=(\"%d/%m/%Y\"))\n",
    "df2['day_of_week']=df2['Date'].dt.dayofweek\n",
    "df2.sort_values(['Date','Time']).tail(5)"
   ]
  },
  {
   "cell_type": "markdown",
   "metadata": {},
   "source": [
    "Now we can perform an aggregation to find the average (median) number of interactions per day of week and time period. Here we pivot the data back into a wide format for people to view the summary or result."
   ]
  },
  {
   "cell_type": "code",
   "execution_count": null,
   "metadata": {
    "collapsed": true
   },
   "outputs": [],
   "source": [
    "df3=df2.groupby(['Date','Time','day_of_week']).agg({'NumberOf':'sum'})[['NumberOf']].reset_index()\n",
    "df4=df3.groupby(['Time','day_of_week']).agg({'NumberOf':'median'})[['NumberOf']].reset_index()\n",
    "df5=df4.pivot_table(index='Time', columns='day_of_week').reset_index()\n",
    "df5"
   ]
  },
  {
   "cell_type": "markdown",
   "metadata": {},
   "source": [
    "Let's do a quick, no no nonsense graph to display the table."
   ]
  },
  {
   "cell_type": "code",
   "execution_count": null,
   "metadata": {
    "collapsed": true
   },
   "outputs": [],
   "source": [
    "plt.rcParams['figure.figsize'] = [15, 8]\n",
    "plt.style.use('ggplot')\n",
    "df5.plot(kind='bar')"
   ]
  },
  {
   "cell_type": "markdown",
   "metadata": {},
   "source": [
    "What if we wanted to show the interactions for each category over a particular month, say March 2018.\n",
    "\n",
    "The raw data is hidden away in a table, there's no real need to look at it constantly, we can simply pose different questions and run any subsequent analysis without changing the raw data.\n",
    "\n",
    "Here is a table view of the interactions per category for March 2018.  Here we once again pivot the data back into a wide format to view the results."
   ]
  },
  {
   "cell_type": "code",
   "execution_count": null,
   "metadata": {
    "collapsed": true
   },
   "outputs": [],
   "source": [
    "df6=df2.loc[(df2['Date'].dt.month == 3) & (df2['Date'].dt.year == 2018) ].reset_index()\n",
    "df7=df6.groupby(['Date','TypeOf']).agg({'NumberOf':'sum'})[['NumberOf']].reset_index()\n",
    "df8=df7.pivot_table(index='TypeOf', columns='Date').reset_index()\n",
    "df8"
   ]
  },
  {
   "cell_type": "markdown",
   "metadata": {},
   "source": [
    "Once again, let's do a quick, no nonsense graph to display the table."
   ]
  },
  {
   "cell_type": "code",
   "execution_count": null,
   "metadata": {
    "collapsed": true
   },
   "outputs": [],
   "source": [
    "df9=df6.loc[df6['TypeOf'].isin(['Catalogue','Reference'])].reset_index()\n",
    "df10=df9.groupby(['Date','TypeOf']).agg({'NumberOf':'sum'})[['NumberOf']].reset_index()\n",
    "plt.rcParams['figure.figsize'] = [15, 8]\n",
    "plt.style.use('ggplot')\n",
    "df10.pivot_table(index='Date', columns='TypeOf').plot(kind='line')"
   ]
  },
  {
   "cell_type": "markdown",
   "metadata": {},
   "source": [
    "So in summary, wide format, whilst ideal for survey responses and displaying data to people, is not an ideal format to work with when using data analysis tools, such as Python and Pandas.  Converting to long data format allows the use of very powerful tools, and then the results can be pivoted or recast back into a wide format which is then easy for people to read and ponder."
   ]
  }
 ],
 "metadata": {
  "kernelspec": {
   "display_name": "Python 3",
   "language": "python",
   "name": "python3"
  },
  "language_info": {
   "codemirror_mode": {
    "name": "ipython",
    "version": 3
   },
   "file_extension": ".py",
   "mimetype": "text/x-python",
   "name": "python",
   "nbconvert_exporter": "python",
   "pygments_lexer": "ipython3",
   "version": "3.5.2"
  }
 },
 "nbformat": 4,
 "nbformat_minor": 2
}
